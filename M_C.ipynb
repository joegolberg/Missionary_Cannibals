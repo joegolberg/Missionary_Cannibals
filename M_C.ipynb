{
  "nbformat": 4,
  "nbformat_minor": 0,
  "metadata": {
    "colab": {
      "provenance": [],
      "authorship_tag": "ABX9TyOVSVhnb90C629MzoGvkE0L",
      "include_colab_link": true
    },
    "kernelspec": {
      "name": "python3",
      "display_name": "Python 3"
    },
    "language_info": {
      "name": "python"
    }
  },
  "cells": [
    {
      "cell_type": "markdown",
      "metadata": {
        "id": "view-in-github",
        "colab_type": "text"
      },
      "source": [
        "<a href=\"https://colab.research.google.com/github/joegolberg/Missionary_Cannibals/blob/main/M_C.ipynb\" target=\"_parent\"><img src=\"https://colab.research.google.com/assets/colab-badge.svg\" alt=\"Open In Colab\"/></a>"
      ]
    },
    {
      "cell_type": "code",
      "execution_count": null,
      "metadata": {
        "id": "T0uE2inxrwCj"
      },
      "outputs": [],
      "source": [
        "boat_side= \"Right\"\n",
        "missionaries_on_right=3\n",
        "cannibals_on_right=3\n",
        "missionaries_on_left=0\n",
        "cannibals_on_left =0\n",
        "\n",
        "print(f\"M = {missionaries_on_left} C = {cannibals_on_left} |B-----| M = {missionaries_on_right} C = {cannibals_on_right}\")\n",
        "\n",
        "while True:\n",
        "  ### Your code ###\n",
        "  missionaries=int(input(\"enter number of missionaries u want to be on boat\"))\n",
        "  cannibals=int(input(\"enter number of cannibals u want to be on boat \"))\n",
        "  boat_passengers=missionaries+cannibals\n",
        "\n",
        "  if (1<=boat_passengers<=2):\n",
        "    print(\"ur move is valid \")\n",
        "  else:\n",
        "      print(\"ur move is invalid \")\n",
        "      continue\n",
        "\n",
        "\n",
        "  if (boat_side==\"Right\"):\n",
        "    print(\" the boat is on right side\")\n",
        "\n",
        "    if missionaries > missionaries_on_right or cannibals >cannibals_on_right:\n",
        "      print(\"invalid move2\")\n",
        "      continue\n",
        "    else:\n",
        "      print(\"valid move\")\n",
        "    missionaries_on_right=missionaries_on_right -missionaries\n",
        "    missionaries_on_left=missionaries_on_left+missionaries\n",
        "    cannibals_on_right= cannibals_on_right -cannibals\n",
        "    cannibals_on_left=cannibals_on_left+cannibals\n",
        "    boat_side = \"Left\"\n",
        "    print(f\"M = {missionaries_on_left} C = {cannibals_on_left} |B-----| M = {missionaries_on_right} C = {cannibals_on_right}\")\n",
        "  elif(boat_side== \"Left\"):\n",
        "    print(\"boat on left bank \")\n",
        "\n",
        "    if missionaries > missionaries_on_left or cannibals >cannibals_on_left:\n",
        "      print(\"invalid move2\")\n",
        "      continue\n",
        "    else:\n",
        "      print(\"valid move\")\n",
        "    missionaries_on_left=missionaries_on_left-missionaries\n",
        "    missionaries_on_right=missionaries_on_right+missionaries\n",
        "    cannibals_on_left=cannibals_on_left-cannibals\n",
        "    cannibals_on_right=cannibals_on_right+cannibals\n",
        "    print(f\"M = {missionaries_on_left} C = {cannibals_on_left} |-----B| M = {missionaries_on_right} C = {cannibals_on_right}\")\n",
        "  if(missionaries_on_right<cannibals_on_right and  missionaries_on_right>0 ):\n",
        "    print( \"u lose \")\n",
        "  elif(missionaries_on_left<cannibals_on_left and missionaries_on_left>0):\n",
        "    print(\"u lose \")\n",
        "    break\n",
        "  if( missionaries_on_right and cannibals_on_right==3):\n",
        "    print(\"u win \")\n",
        "    break\n",
        "\n"
      ]
    }
  ]
}